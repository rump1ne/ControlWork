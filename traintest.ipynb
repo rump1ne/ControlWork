{
  "nbformat": 4,
  "nbformat_minor": 0,
  "metadata": {
    "colab": {
      "provenance": [],
      "authorship_tag": "ABX9TyOKdac+fV2OPcYEKVlZCYnZ",
      "include_colab_link": true
    },
    "kernelspec": {
      "name": "python3",
      "display_name": "Python 3"
    },
    "language_info": {
      "name": "python"
    }
  },
  "cells": [
    {
      "cell_type": "markdown",
      "metadata": {
        "id": "view-in-github",
        "colab_type": "text"
      },
      "source": [
        "<a href=\"https://colab.research.google.com/github/Quenassier/traintest2EASY/blob/main/traintest.ipynb\" target=\"_parent\"><img src=\"https://colab.research.google.com/assets/colab-badge.svg\" alt=\"Open In Colab\"/></a>"
      ]
    },
    {
      "cell_type": "code",
      "execution_count": null,
      "metadata": {
        "id": "ojhmmM0E8otQ"
      },
      "outputs": [],
      "source": [
        "import pandas as pd\n",
        "from sklearn.model_selection import train_test_split\n",
        "from sklearn.linear_model import LogisticRegression\n",
        "from sklearn.linear_model import LinearRegression\n",
        "from sklearn.neighbors import KNeighborsClassifier\n",
        "from sklearn.metrics import accuracy_score\n",
        "from sklearn.impute import SimpleImputer\n",
        "from sklearn.preprocessing import LabelEncoder"
      ]
    },
    {
      "cell_type": "code",
      "source": [
        "# Чтение данных обучения и теста из CSV файлов\n",
        "train_data = pd.read_csv(\"train.csv\")\n",
        "test_data = pd.read_csv(\"test.csv\")"
      ],
      "metadata": {
        "id": "vY3MZEbATKdD"
      },
      "execution_count": 10,
      "outputs": []
    },
    {
      "cell_type": "code",
      "source": [
        "# Замена отсутствующих значений в возрасте средним значением\n",
        "imputer = SimpleImputer(strategy=\"mean\")\n",
        "train_data[\"Age\"] = imputer.fit_transform(train_data[[\"Age\"]])\n",
        "test_data[\"Age\"] = imputer.transform(test_data[[\"Age\"]])"
      ],
      "metadata": {
        "id": "E0C_bgRoTKaU"
      },
      "execution_count": 11,
      "outputs": []
    },
    {
      "cell_type": "code",
      "source": [
        "# Замена отсутствующих значений в столбце \"Embarked\" на самое часто встречающееся значение\n",
        "train_data[\"Embarked\"].fillna(train_data[\"Embarked\"].mode()[0], inplace=True)\n",
        "test_data[\"Embarked\"].fillna(test_data[\"Embarked\"].mode()[0], inplace=True)"
      ],
      "metadata": {
        "id": "wS212p5JTKXm"
      },
      "execution_count": 12,
      "outputs": []
    },
    {
      "cell_type": "code",
      "source": [
        "# Замена отсутствующих значений в столбце \"Fare\" на среднее значение\n",
        "test_data[\"Fare\"].fillna(test_data[\"Fare\"].mean(), inplace=True)"
      ],
      "metadata": {
        "id": "UaxwVE4pTKU_"
      },
      "execution_count": 13,
      "outputs": []
    },
    {
      "cell_type": "code",
      "source": [
        "# Преобразование категориальных признаков в числовые с помощью LabelEncoder\n",
        "le = LabelEncoder()\n",
        "train_data[\"Sex\"] = le.fit_transform(train_data[\"Sex\"])\n",
        "test_data[\"Sex\"] = le.transform(test_data[\"Sex\"])\n",
        "train_data[\"Embarked\"] = le.fit_transform(train_data[\"Embarked\"])\n",
        "test_data[\"Embarked\"] = le.transform(test_data[\"Embarked\"])"
      ],
      "metadata": {
        "id": "NF9vA4WxTKSW"
      },
      "execution_count": 14,
      "outputs": []
    },
    {
      "cell_type": "code",
      "source": [
        "\n",
        "# Выделение признаков и целевой переменной для обучения модели логистической регрессии\n",
        "X_train = train_data[[\"Pclass\", \"Sex\", \"Age\", \"SibSp\", \"Parch\", \"Fare\", \"Embarked\"]]\n",
        "y_train = train_data[\"Survived\"]"
      ],
      "metadata": {
        "id": "QOavFza2TKPg"
      },
      "execution_count": 15,
      "outputs": []
    },
    {
      "cell_type": "code",
      "source": [
        "# Обучение модели логистической регрессии\n",
        "logreg = LogisticRegression()\n",
        "logreg.fit(X_train, y_train)"
      ],
      "metadata": {
        "colab": {
          "base_uri": "https://localhost:8080/",
          "height": 75
        },
        "id": "_QB80qKuTKMY",
        "outputId": "4745cb8d-df21-40b6-cdf4-dfe134720a3c"
      },
      "execution_count": 16,
      "outputs": [
        {
          "output_type": "execute_result",
          "data": {
            "text/plain": [
              "LogisticRegression()"
            ],
            "text/html": [
              "<style>#sk-container-id-1 {color: black;background-color: white;}#sk-container-id-1 pre{padding: 0;}#sk-container-id-1 div.sk-toggleable {background-color: white;}#sk-container-id-1 label.sk-toggleable__label {cursor: pointer;display: block;width: 100%;margin-bottom: 0;padding: 0.3em;box-sizing: border-box;text-align: center;}#sk-container-id-1 label.sk-toggleable__label-arrow:before {content: \"▸\";float: left;margin-right: 0.25em;color: #696969;}#sk-container-id-1 label.sk-toggleable__label-arrow:hover:before {color: black;}#sk-container-id-1 div.sk-estimator:hover label.sk-toggleable__label-arrow:before {color: black;}#sk-container-id-1 div.sk-toggleable__content {max-height: 0;max-width: 0;overflow: hidden;text-align: left;background-color: #f0f8ff;}#sk-container-id-1 div.sk-toggleable__content pre {margin: 0.2em;color: black;border-radius: 0.25em;background-color: #f0f8ff;}#sk-container-id-1 input.sk-toggleable__control:checked~div.sk-toggleable__content {max-height: 200px;max-width: 100%;overflow: auto;}#sk-container-id-1 input.sk-toggleable__control:checked~label.sk-toggleable__label-arrow:before {content: \"▾\";}#sk-container-id-1 div.sk-estimator input.sk-toggleable__control:checked~label.sk-toggleable__label {background-color: #d4ebff;}#sk-container-id-1 div.sk-label input.sk-toggleable__control:checked~label.sk-toggleable__label {background-color: #d4ebff;}#sk-container-id-1 input.sk-hidden--visually {border: 0;clip: rect(1px 1px 1px 1px);clip: rect(1px, 1px, 1px, 1px);height: 1px;margin: -1px;overflow: hidden;padding: 0;position: absolute;width: 1px;}#sk-container-id-1 div.sk-estimator {font-family: monospace;background-color: #f0f8ff;border: 1px dotted black;border-radius: 0.25em;box-sizing: border-box;margin-bottom: 0.5em;}#sk-container-id-1 div.sk-estimator:hover {background-color: #d4ebff;}#sk-container-id-1 div.sk-parallel-item::after {content: \"\";width: 100%;border-bottom: 1px solid gray;flex-grow: 1;}#sk-container-id-1 div.sk-label:hover label.sk-toggleable__label {background-color: #d4ebff;}#sk-container-id-1 div.sk-serial::before {content: \"\";position: absolute;border-left: 1px solid gray;box-sizing: border-box;top: 0;bottom: 0;left: 50%;z-index: 0;}#sk-container-id-1 div.sk-serial {display: flex;flex-direction: column;align-items: center;background-color: white;padding-right: 0.2em;padding-left: 0.2em;position: relative;}#sk-container-id-1 div.sk-item {position: relative;z-index: 1;}#sk-container-id-1 div.sk-parallel {display: flex;align-items: stretch;justify-content: center;background-color: white;position: relative;}#sk-container-id-1 div.sk-item::before, #sk-container-id-1 div.sk-parallel-item::before {content: \"\";position: absolute;border-left: 1px solid gray;box-sizing: border-box;top: 0;bottom: 0;left: 50%;z-index: -1;}#sk-container-id-1 div.sk-parallel-item {display: flex;flex-direction: column;z-index: 1;position: relative;background-color: white;}#sk-container-id-1 div.sk-parallel-item:first-child::after {align-self: flex-end;width: 50%;}#sk-container-id-1 div.sk-parallel-item:last-child::after {align-self: flex-start;width: 50%;}#sk-container-id-1 div.sk-parallel-item:only-child::after {width: 0;}#sk-container-id-1 div.sk-dashed-wrapped {border: 1px dashed gray;margin: 0 0.4em 0.5em 0.4em;box-sizing: border-box;padding-bottom: 0.4em;background-color: white;}#sk-container-id-1 div.sk-label label {font-family: monospace;font-weight: bold;display: inline-block;line-height: 1.2em;}#sk-container-id-1 div.sk-label-container {text-align: center;}#sk-container-id-1 div.sk-container {/* jupyter's `normalize.less` sets `[hidden] { display: none; }` but bootstrap.min.css set `[hidden] { display: none !important; }` so we also need the `!important` here to be able to override the default hidden behavior on the sphinx rendered scikit-learn.org. See: https://github.com/scikit-learn/scikit-learn/issues/21755 */display: inline-block !important;position: relative;}#sk-container-id-1 div.sk-text-repr-fallback {display: none;}</style><div id=\"sk-container-id-1\" class=\"sk-top-container\"><div class=\"sk-text-repr-fallback\"><pre>LogisticRegression()</pre><b>In a Jupyter environment, please rerun this cell to show the HTML representation or trust the notebook. <br />On GitHub, the HTML representation is unable to render, please try loading this page with nbviewer.org.</b></div><div class=\"sk-container\" hidden><div class=\"sk-item\"><div class=\"sk-estimator sk-toggleable\"><input class=\"sk-toggleable__control sk-hidden--visually\" id=\"sk-estimator-id-1\" type=\"checkbox\" checked><label for=\"sk-estimator-id-1\" class=\"sk-toggleable__label sk-toggleable__label-arrow\">LogisticRegression</label><div class=\"sk-toggleable__content\"><pre>LogisticRegression()</pre></div></div></div></div></div>"
            ]
          },
          "metadata": {},
          "execution_count": 16
        }
      ]
    },
    {
      "cell_type": "code",
      "source": [
        "# Замена отсутствующих значений в возрасте средним значением и обучение модели линейной регрессии для предсказания возраста\n",
        "train_data[\"Age\"].fillna(train_data[\"Age\"].mean(), inplace=True)\n",
        "X_age_train = train_data[[\"Pclass\", \"Sex\", \"SibSp\", \"Parch\", \"Fare\", \"Embarked\"]]\n",
        "y_age_train = train_data[\"Age\"]\n",
        "# линейная регрессия\n",
        "linreg = LinearRegression()\n",
        "linreg.fit(X_age_train, y_age_train)"
      ],
      "metadata": {
        "colab": {
          "base_uri": "https://localhost:8080/",
          "height": 75
        },
        "id": "O6MVwmXATKJu",
        "outputId": "95075a02-3d9f-4b1d-9241-dc8db634906d"
      },
      "execution_count": 17,
      "outputs": [
        {
          "output_type": "execute_result",
          "data": {
            "text/plain": [
              "LinearRegression()"
            ],
            "text/html": [
              "<style>#sk-container-id-2 {color: black;background-color: white;}#sk-container-id-2 pre{padding: 0;}#sk-container-id-2 div.sk-toggleable {background-color: white;}#sk-container-id-2 label.sk-toggleable__label {cursor: pointer;display: block;width: 100%;margin-bottom: 0;padding: 0.3em;box-sizing: border-box;text-align: center;}#sk-container-id-2 label.sk-toggleable__label-arrow:before {content: \"▸\";float: left;margin-right: 0.25em;color: #696969;}#sk-container-id-2 label.sk-toggleable__label-arrow:hover:before {color: black;}#sk-container-id-2 div.sk-estimator:hover label.sk-toggleable__label-arrow:before {color: black;}#sk-container-id-2 div.sk-toggleable__content {max-height: 0;max-width: 0;overflow: hidden;text-align: left;background-color: #f0f8ff;}#sk-container-id-2 div.sk-toggleable__content pre {margin: 0.2em;color: black;border-radius: 0.25em;background-color: #f0f8ff;}#sk-container-id-2 input.sk-toggleable__control:checked~div.sk-toggleable__content {max-height: 200px;max-width: 100%;overflow: auto;}#sk-container-id-2 input.sk-toggleable__control:checked~label.sk-toggleable__label-arrow:before {content: \"▾\";}#sk-container-id-2 div.sk-estimator input.sk-toggleable__control:checked~label.sk-toggleable__label {background-color: #d4ebff;}#sk-container-id-2 div.sk-label input.sk-toggleable__control:checked~label.sk-toggleable__label {background-color: #d4ebff;}#sk-container-id-2 input.sk-hidden--visually {border: 0;clip: rect(1px 1px 1px 1px);clip: rect(1px, 1px, 1px, 1px);height: 1px;margin: -1px;overflow: hidden;padding: 0;position: absolute;width: 1px;}#sk-container-id-2 div.sk-estimator {font-family: monospace;background-color: #f0f8ff;border: 1px dotted black;border-radius: 0.25em;box-sizing: border-box;margin-bottom: 0.5em;}#sk-container-id-2 div.sk-estimator:hover {background-color: #d4ebff;}#sk-container-id-2 div.sk-parallel-item::after {content: \"\";width: 100%;border-bottom: 1px solid gray;flex-grow: 1;}#sk-container-id-2 div.sk-label:hover label.sk-toggleable__label {background-color: #d4ebff;}#sk-container-id-2 div.sk-serial::before {content: \"\";position: absolute;border-left: 1px solid gray;box-sizing: border-box;top: 0;bottom: 0;left: 50%;z-index: 0;}#sk-container-id-2 div.sk-serial {display: flex;flex-direction: column;align-items: center;background-color: white;padding-right: 0.2em;padding-left: 0.2em;position: relative;}#sk-container-id-2 div.sk-item {position: relative;z-index: 1;}#sk-container-id-2 div.sk-parallel {display: flex;align-items: stretch;justify-content: center;background-color: white;position: relative;}#sk-container-id-2 div.sk-item::before, #sk-container-id-2 div.sk-parallel-item::before {content: \"\";position: absolute;border-left: 1px solid gray;box-sizing: border-box;top: 0;bottom: 0;left: 50%;z-index: -1;}#sk-container-id-2 div.sk-parallel-item {display: flex;flex-direction: column;z-index: 1;position: relative;background-color: white;}#sk-container-id-2 div.sk-parallel-item:first-child::after {align-self: flex-end;width: 50%;}#sk-container-id-2 div.sk-parallel-item:last-child::after {align-self: flex-start;width: 50%;}#sk-container-id-2 div.sk-parallel-item:only-child::after {width: 0;}#sk-container-id-2 div.sk-dashed-wrapped {border: 1px dashed gray;margin: 0 0.4em 0.5em 0.4em;box-sizing: border-box;padding-bottom: 0.4em;background-color: white;}#sk-container-id-2 div.sk-label label {font-family: monospace;font-weight: bold;display: inline-block;line-height: 1.2em;}#sk-container-id-2 div.sk-label-container {text-align: center;}#sk-container-id-2 div.sk-container {/* jupyter's `normalize.less` sets `[hidden] { display: none; }` but bootstrap.min.css set `[hidden] { display: none !important; }` so we also need the `!important` here to be able to override the default hidden behavior on the sphinx rendered scikit-learn.org. See: https://github.com/scikit-learn/scikit-learn/issues/21755 */display: inline-block !important;position: relative;}#sk-container-id-2 div.sk-text-repr-fallback {display: none;}</style><div id=\"sk-container-id-2\" class=\"sk-top-container\"><div class=\"sk-text-repr-fallback\"><pre>LinearRegression()</pre><b>In a Jupyter environment, please rerun this cell to show the HTML representation or trust the notebook. <br />On GitHub, the HTML representation is unable to render, please try loading this page with nbviewer.org.</b></div><div class=\"sk-container\" hidden><div class=\"sk-item\"><div class=\"sk-estimator sk-toggleable\"><input class=\"sk-toggleable__control sk-hidden--visually\" id=\"sk-estimator-id-2\" type=\"checkbox\" checked><label for=\"sk-estimator-id-2\" class=\"sk-toggleable__label sk-toggleable__label-arrow\">LinearRegression</label><div class=\"sk-toggleable__content\"><pre>LinearRegression()</pre></div></div></div></div></div>"
            ]
          },
          "metadata": {},
          "execution_count": 17
        }
      ]
    },
    {
      "cell_type": "code",
      "source": [
        "# Вывод коэффициентов и свободного члена модели линейной регрессии\n",
        "print(\"Coefficients:\", linreg.coef_)\n",
        "print(\"Intercept:\", linreg.intercept_)"
      ],
      "metadata": {
        "colab": {
          "base_uri": "https://localhost:8080/"
        },
        "id": "9IhoFfntTKHD",
        "outputId": "6464493b-d317-488a-ff50-ed225891da57"
      },
      "execution_count": 18,
      "outputs": [
        {
          "output_type": "stream",
          "name": "stdout",
          "text": [
            "Coefficients: [-5.50407422  2.26374912 -1.83902977 -1.29090714 -0.01035394  0.43609156]\n",
            "Intercept: 42.05790541903572\n"
          ]
        }
      ]
    },
    {
      "cell_type": "code",
      "source": [
        "# Обучение модели k-ближайших соседей для предсказания значения Embarked\n",
        "X_embarked_train = train_data[[\"Pclass\", \"Sex\", \"Age\", \"SibSp\", \"Parch\", \"Fare\"]]\n",
        "y_embarked_train = train_data[\"Embarked\"]\n",
        "knn = KNeighborsClassifier()\n",
        "knn.fit(X_embarked_train, y_embarked_train)"
      ],
      "metadata": {
        "colab": {
          "base_uri": "https://localhost:8080/",
          "height": 75
        },
        "id": "L_Woxgj_TKCg",
        "outputId": "e8a38190-7030-4a7c-f367-46e9f10c653d"
      },
      "execution_count": 19,
      "outputs": [
        {
          "output_type": "execute_result",
          "data": {
            "text/plain": [
              "KNeighborsClassifier()"
            ],
            "text/html": [
              "<style>#sk-container-id-3 {color: black;background-color: white;}#sk-container-id-3 pre{padding: 0;}#sk-container-id-3 div.sk-toggleable {background-color: white;}#sk-container-id-3 label.sk-toggleable__label {cursor: pointer;display: block;width: 100%;margin-bottom: 0;padding: 0.3em;box-sizing: border-box;text-align: center;}#sk-container-id-3 label.sk-toggleable__label-arrow:before {content: \"▸\";float: left;margin-right: 0.25em;color: #696969;}#sk-container-id-3 label.sk-toggleable__label-arrow:hover:before {color: black;}#sk-container-id-3 div.sk-estimator:hover label.sk-toggleable__label-arrow:before {color: black;}#sk-container-id-3 div.sk-toggleable__content {max-height: 0;max-width: 0;overflow: hidden;text-align: left;background-color: #f0f8ff;}#sk-container-id-3 div.sk-toggleable__content pre {margin: 0.2em;color: black;border-radius: 0.25em;background-color: #f0f8ff;}#sk-container-id-3 input.sk-toggleable__control:checked~div.sk-toggleable__content {max-height: 200px;max-width: 100%;overflow: auto;}#sk-container-id-3 input.sk-toggleable__control:checked~label.sk-toggleable__label-arrow:before {content: \"▾\";}#sk-container-id-3 div.sk-estimator input.sk-toggleable__control:checked~label.sk-toggleable__label {background-color: #d4ebff;}#sk-container-id-3 div.sk-label input.sk-toggleable__control:checked~label.sk-toggleable__label {background-color: #d4ebff;}#sk-container-id-3 input.sk-hidden--visually {border: 0;clip: rect(1px 1px 1px 1px);clip: rect(1px, 1px, 1px, 1px);height: 1px;margin: -1px;overflow: hidden;padding: 0;position: absolute;width: 1px;}#sk-container-id-3 div.sk-estimator {font-family: monospace;background-color: #f0f8ff;border: 1px dotted black;border-radius: 0.25em;box-sizing: border-box;margin-bottom: 0.5em;}#sk-container-id-3 div.sk-estimator:hover {background-color: #d4ebff;}#sk-container-id-3 div.sk-parallel-item::after {content: \"\";width: 100%;border-bottom: 1px solid gray;flex-grow: 1;}#sk-container-id-3 div.sk-label:hover label.sk-toggleable__label {background-color: #d4ebff;}#sk-container-id-3 div.sk-serial::before {content: \"\";position: absolute;border-left: 1px solid gray;box-sizing: border-box;top: 0;bottom: 0;left: 50%;z-index: 0;}#sk-container-id-3 div.sk-serial {display: flex;flex-direction: column;align-items: center;background-color: white;padding-right: 0.2em;padding-left: 0.2em;position: relative;}#sk-container-id-3 div.sk-item {position: relative;z-index: 1;}#sk-container-id-3 div.sk-parallel {display: flex;align-items: stretch;justify-content: center;background-color: white;position: relative;}#sk-container-id-3 div.sk-item::before, #sk-container-id-3 div.sk-parallel-item::before {content: \"\";position: absolute;border-left: 1px solid gray;box-sizing: border-box;top: 0;bottom: 0;left: 50%;z-index: -1;}#sk-container-id-3 div.sk-parallel-item {display: flex;flex-direction: column;z-index: 1;position: relative;background-color: white;}#sk-container-id-3 div.sk-parallel-item:first-child::after {align-self: flex-end;width: 50%;}#sk-container-id-3 div.sk-parallel-item:last-child::after {align-self: flex-start;width: 50%;}#sk-container-id-3 div.sk-parallel-item:only-child::after {width: 0;}#sk-container-id-3 div.sk-dashed-wrapped {border: 1px dashed gray;margin: 0 0.4em 0.5em 0.4em;box-sizing: border-box;padding-bottom: 0.4em;background-color: white;}#sk-container-id-3 div.sk-label label {font-family: monospace;font-weight: bold;display: inline-block;line-height: 1.2em;}#sk-container-id-3 div.sk-label-container {text-align: center;}#sk-container-id-3 div.sk-container {/* jupyter's `normalize.less` sets `[hidden] { display: none; }` but bootstrap.min.css set `[hidden] { display: none !important; }` so we also need the `!important` here to be able to override the default hidden behavior on the sphinx rendered scikit-learn.org. See: https://github.com/scikit-learn/scikit-learn/issues/21755 */display: inline-block !important;position: relative;}#sk-container-id-3 div.sk-text-repr-fallback {display: none;}</style><div id=\"sk-container-id-3\" class=\"sk-top-container\"><div class=\"sk-text-repr-fallback\"><pre>KNeighborsClassifier()</pre><b>In a Jupyter environment, please rerun this cell to show the HTML representation or trust the notebook. <br />On GitHub, the HTML representation is unable to render, please try loading this page with nbviewer.org.</b></div><div class=\"sk-container\" hidden><div class=\"sk-item\"><div class=\"sk-estimator sk-toggleable\"><input class=\"sk-toggleable__control sk-hidden--visually\" id=\"sk-estimator-id-3\" type=\"checkbox\" checked><label for=\"sk-estimator-id-3\" class=\"sk-toggleable__label sk-toggleable__label-arrow\">KNeighborsClassifier</label><div class=\"sk-toggleable__content\"><pre>KNeighborsClassifier()</pre></div></div></div></div></div>"
            ]
          },
          "metadata": {},
          "execution_count": 19
        }
      ]
    },
    {
      "cell_type": "code",
      "source": [
        "# Преобразование категориальных признаков в числовые с помощью LabelEncoder для тестовых данных\n",
        "test_data_copy = test_data.copy()\n",
        "label_encoder = LabelEncoder()\n",
        "test_data[\"Sex\"] = label_encoder.fit_transform(test_data[\"Sex\"])\n",
        "test_data[\"Embarked\"] = label_encoder.fit_transform(test_data[\"Embarked\"])"
      ],
      "metadata": {
        "id": "1PzpJiJBTJ_T"
      },
      "execution_count": 20,
      "outputs": []
    },
    {
      "cell_type": "code",
      "source": [
        "# Импьютация отсутствующих значений средним значением для тестовых данных\n",
        "imputer = SimpleImputer(strategy=\"mean\")\n",
        "columns_to_impute = [\"Pclass\", \"Sex\", \"Age\", \"SibSp\", \"Parch\", \"Fare\", \"Embarked\"]\n",
        "test_data[columns_to_impute] = imputer.fit_transform(test_data[columns_to_impute])"
      ],
      "metadata": {
        "id": "NtvwU4SYTJ8V"
      },
      "execution_count": 21,
      "outputs": []
    },
    {
      "cell_type": "code",
      "source": [
        "# Обучение модели линейной регрессии для предсказания возраста\n",
        "linreg.fit(X_train, y_train)\n",
        "y_age_pred = linreg.predict(test_data[[\"Pclass\", \"Sex\", \"Age\", \"SibSp\", \"Parch\", \"Fare\", \"Embarked\"]])"
      ],
      "metadata": {
        "id": "gWaF8sl8TJ2W"
      },
      "execution_count": 22,
      "outputs": []
    },
    {
      "cell_type": "code",
      "source": [
        "# Заполнение предсказанными значениями возраста и сохранение результатов в CSV файл\n",
        "test_data[\"Age\"] = y_age_pred\n",
        "test_data.to_csv(\"predicted_test.csv\", index=False)"
      ],
      "metadata": {
        "id": "la4pVWG1TJfe"
      },
      "execution_count": 23,
      "outputs": []
    },
    {
      "cell_type": "code",
      "source": [
        "# Подготовка данных для предсказания выживания\n",
        "X_test = test_data[[\"Pclass\", \"Sex\", \"Age\", \"SibSp\", \"Parch\", \"Fare\", \"Embarked\"]]"
      ],
      "metadata": {
        "id": "5JIPNngRTfLx"
      },
      "execution_count": 24,
      "outputs": []
    },
    {
      "cell_type": "code",
      "source": [
        "# Предсказание выживания с помощью модели логистической регрессии\n",
        "y_survived_pred = logreg.predict(X_test)"
      ],
      "metadata": {
        "id": "-91BINJnTfJN"
      },
      "execution_count": 25,
      "outputs": []
    },
    {
      "cell_type": "code",
      "source": [
        "# Предсказание возраста с помощью модели линейной регрессии\n",
        "y_age_pred = linreg.predict(X_test[[\"Pclass\", \"Sex\", \"Age\", \"SibSp\", \"Parch\", \"Fare\", \"Embarked\"]])\n"
      ],
      "metadata": {
        "id": "2NhcNHw4TfGp"
      },
      "execution_count": 26,
      "outputs": []
    },
    {
      "cell_type": "code",
      "source": [
        "# Предсказание значения Embarked с помощью модели k-ближайших соседей\n",
        "y_embarked_pred = knn.predict(X_test[[\"Pclass\", \"Sex\", \"Age\", \"SibSp\", \"Parch\", \"Fare\"]])"
      ],
      "metadata": {
        "id": "KkZsmUbLTer_"
      },
      "execution_count": 27,
      "outputs": []
    },
    {
      "cell_type": "code",
      "source": [
        "\n",
        "# Обновление данных теста с предсказанными значениями и сохранение результатов в файл\n",
        "test_data[\"Survived\"] = y_survived_pred\n",
        "test_data[\"Age\"] = y_age_pred\n",
        "test_data[\"Embarked\"] = y_embarked_pred\n",
        "test_data.to_csv(\"finally_test.csv\", index=False)"
      ],
      "metadata": {
        "id": "kUaa1cXQTkk4"
      },
      "execution_count": 28,
      "outputs": []
    },
    {
      "cell_type": "code",
      "source": [
        "print(train_data)\n",
        "print(test_data)"
      ],
      "metadata": {
        "colab": {
          "base_uri": "https://localhost:8080/"
        },
        "id": "qNu_nhp4XyOl",
        "outputId": "9e5e225b-1367-49f7-dfd3-28d12fd204d0"
      },
      "execution_count": 29,
      "outputs": [
        {
          "output_type": "stream",
          "name": "stdout",
          "text": [
            "     PassengerId  Survived  Pclass  \\\n",
            "0              1         0       3   \n",
            "1              2         1       1   \n",
            "2              3         1       3   \n",
            "3              4         1       1   \n",
            "4              5         0       3   \n",
            "..           ...       ...     ...   \n",
            "886          887         0       2   \n",
            "887          888         1       1   \n",
            "888          889         0       3   \n",
            "889          890         1       1   \n",
            "890          891         0       3   \n",
            "\n",
            "                                                  Name  Sex        Age  SibSp  \\\n",
            "0                              Braund, Mr. Owen Harris    1  22.000000      1   \n",
            "1    Cumings, Mrs. John Bradley (Florence Briggs Th...    0  38.000000      1   \n",
            "2                               Heikkinen, Miss. Laina    0  26.000000      0   \n",
            "3         Futrelle, Mrs. Jacques Heath (Lily May Peel)    0  35.000000      1   \n",
            "4                             Allen, Mr. William Henry    1  35.000000      0   \n",
            "..                                                 ...  ...        ...    ...   \n",
            "886                              Montvila, Rev. Juozas    1  27.000000      0   \n",
            "887                       Graham, Miss. Margaret Edith    0  19.000000      0   \n",
            "888           Johnston, Miss. Catherine Helen \"Carrie\"    0  29.699118      1   \n",
            "889                              Behr, Mr. Karl Howell    1  26.000000      0   \n",
            "890                                Dooley, Mr. Patrick    1  32.000000      0   \n",
            "\n",
            "     Parch            Ticket     Fare Cabin  Embarked  \n",
            "0        0         A/5 21171   7.2500   NaN         2  \n",
            "1        0          PC 17599  71.2833   C85         0  \n",
            "2        0  STON/O2. 3101282   7.9250   NaN         2  \n",
            "3        0            113803  53.1000  C123         2  \n",
            "4        0            373450   8.0500   NaN         2  \n",
            "..     ...               ...      ...   ...       ...  \n",
            "886      0            211536  13.0000   NaN         2  \n",
            "887      0            112053  30.0000   B42         2  \n",
            "888      2        W./C. 6607  23.4500   NaN         2  \n",
            "889      0            111369  30.0000  C148         0  \n",
            "890      0            370376   7.7500   NaN         1  \n",
            "\n",
            "[891 rows x 12 columns]\n",
            "     PassengerId  Pclass                                          Name  Sex  \\\n",
            "0            892     3.0                              Kelly, Mr. James  1.0   \n",
            "1            893     3.0              Wilkes, Mrs. James (Ellen Needs)  0.0   \n",
            "2            894     2.0                     Myles, Mr. Thomas Francis  1.0   \n",
            "3            895     3.0                              Wirz, Mr. Albert  1.0   \n",
            "4            896     3.0  Hirvonen, Mrs. Alexander (Helga E Lindqvist)  0.0   \n",
            "..           ...     ...                                           ...  ...   \n",
            "413         1305     3.0                            Spector, Mr. Woolf  1.0   \n",
            "414         1306     1.0                  Oliva y Ocana, Dona. Fermina  0.0   \n",
            "415         1307     3.0                  Saether, Mr. Simon Sivertsen  1.0   \n",
            "416         1308     3.0                           Ware, Mr. Frederick  1.0   \n",
            "417         1309     3.0                      Peter, Master. Michael J  1.0   \n",
            "\n",
            "          Age  SibSp  Parch              Ticket      Fare Cabin  Embarked  \\\n",
            "0    0.299917    0.0    0.0              330911    7.8292   NaN         2   \n",
            "1    0.728665    1.0    0.0              363272    7.0000   NaN         2   \n",
            "2    0.469529    0.0    0.0              240276    9.6875   NaN         2   \n",
            "3    0.265250    0.0    0.0              315154    8.6625   NaN         2   \n",
            "4    0.712253    1.0    1.0             3101298   12.2875   NaN         2   \n",
            "..        ...    ...    ...                 ...       ...   ...       ...   \n",
            "413  0.265167    0.0    0.0           A.5. 3236    8.0500   NaN         2   \n",
            "414  1.204060    0.0    0.0            PC 17758  108.9000  C105         0   \n",
            "415  0.265235    0.0    0.0  SOTON/O.Q. 3101262    7.2500   NaN         2   \n",
            "416  0.265167    0.0    0.0              359309    8.0500   NaN         2   \n",
            "417  0.280502    1.0    1.0                2668   22.3583   NaN         2   \n",
            "\n",
            "     Survived  \n",
            "0           0  \n",
            "1           1  \n",
            "2           1  \n",
            "3           0  \n",
            "4           1  \n",
            "..        ...  \n",
            "413         0  \n",
            "414         1  \n",
            "415         0  \n",
            "416         0  \n",
            "417         0  \n",
            "\n",
            "[418 rows x 12 columns]\n"
          ]
        }
      ]
    },
    {
      "cell_type": "code",
      "source": [
        "# Подготовка данных для предсказания\n",
        "X_test = test_data[[\"Pclass\", \"Sex\", \"Age\", \"SibSp\", \"Parch\", \"Fare\", \"Embarked\"]].copy()\n",
        "print(X_test.columns)"
      ],
      "metadata": {
        "colab": {
          "base_uri": "https://localhost:8080/"
        },
        "id": "heRAnDoQTkcy",
        "outputId": "e222cabf-6ace-483a-8c5c-af3d972e7c81"
      },
      "execution_count": 30,
      "outputs": [
        {
          "output_type": "stream",
          "name": "stdout",
          "text": [
            "Index(['Pclass', 'Sex', 'Age', 'SibSp', 'Parch', 'Fare', 'Embarked'], dtype='object')\n"
          ]
        }
      ]
    },
    {
      "cell_type": "code",
      "source": [
        "print(train_data)\n",
        "print(test_data)"
      ],
      "metadata": {
        "id": "lLrwk6drbSri",
        "outputId": "851465bb-2db9-4c22-9d2a-42d6e0c1f087",
        "colab": {
          "base_uri": "https://localhost:8080/"
        }
      },
      "execution_count": 31,
      "outputs": [
        {
          "output_type": "stream",
          "name": "stdout",
          "text": [
            "     PassengerId  Survived  Pclass  \\\n",
            "0              1         0       3   \n",
            "1              2         1       1   \n",
            "2              3         1       3   \n",
            "3              4         1       1   \n",
            "4              5         0       3   \n",
            "..           ...       ...     ...   \n",
            "886          887         0       2   \n",
            "887          888         1       1   \n",
            "888          889         0       3   \n",
            "889          890         1       1   \n",
            "890          891         0       3   \n",
            "\n",
            "                                                  Name  Sex        Age  SibSp  \\\n",
            "0                              Braund, Mr. Owen Harris    1  22.000000      1   \n",
            "1    Cumings, Mrs. John Bradley (Florence Briggs Th...    0  38.000000      1   \n",
            "2                               Heikkinen, Miss. Laina    0  26.000000      0   \n",
            "3         Futrelle, Mrs. Jacques Heath (Lily May Peel)    0  35.000000      1   \n",
            "4                             Allen, Mr. William Henry    1  35.000000      0   \n",
            "..                                                 ...  ...        ...    ...   \n",
            "886                              Montvila, Rev. Juozas    1  27.000000      0   \n",
            "887                       Graham, Miss. Margaret Edith    0  19.000000      0   \n",
            "888           Johnston, Miss. Catherine Helen \"Carrie\"    0  29.699118      1   \n",
            "889                              Behr, Mr. Karl Howell    1  26.000000      0   \n",
            "890                                Dooley, Mr. Patrick    1  32.000000      0   \n",
            "\n",
            "     Parch            Ticket     Fare Cabin  Embarked  \n",
            "0        0         A/5 21171   7.2500   NaN         2  \n",
            "1        0          PC 17599  71.2833   C85         0  \n",
            "2        0  STON/O2. 3101282   7.9250   NaN         2  \n",
            "3        0            113803  53.1000  C123         2  \n",
            "4        0            373450   8.0500   NaN         2  \n",
            "..     ...               ...      ...   ...       ...  \n",
            "886      0            211536  13.0000   NaN         2  \n",
            "887      0            112053  30.0000   B42         2  \n",
            "888      2        W./C. 6607  23.4500   NaN         2  \n",
            "889      0            111369  30.0000  C148         0  \n",
            "890      0            370376   7.7500   NaN         1  \n",
            "\n",
            "[891 rows x 12 columns]\n",
            "     PassengerId  Pclass                                          Name  Sex  \\\n",
            "0            892     3.0                              Kelly, Mr. James  1.0   \n",
            "1            893     3.0              Wilkes, Mrs. James (Ellen Needs)  0.0   \n",
            "2            894     2.0                     Myles, Mr. Thomas Francis  1.0   \n",
            "3            895     3.0                              Wirz, Mr. Albert  1.0   \n",
            "4            896     3.0  Hirvonen, Mrs. Alexander (Helga E Lindqvist)  0.0   \n",
            "..           ...     ...                                           ...  ...   \n",
            "413         1305     3.0                            Spector, Mr. Woolf  1.0   \n",
            "414         1306     1.0                  Oliva y Ocana, Dona. Fermina  0.0   \n",
            "415         1307     3.0                  Saether, Mr. Simon Sivertsen  1.0   \n",
            "416         1308     3.0                           Ware, Mr. Frederick  1.0   \n",
            "417         1309     3.0                      Peter, Master. Michael J  1.0   \n",
            "\n",
            "          Age  SibSp  Parch              Ticket      Fare Cabin  Embarked  \\\n",
            "0    0.299917    0.0    0.0              330911    7.8292   NaN         2   \n",
            "1    0.728665    1.0    0.0              363272    7.0000   NaN         2   \n",
            "2    0.469529    0.0    0.0              240276    9.6875   NaN         2   \n",
            "3    0.265250    0.0    0.0              315154    8.6625   NaN         2   \n",
            "4    0.712253    1.0    1.0             3101298   12.2875   NaN         2   \n",
            "..        ...    ...    ...                 ...       ...   ...       ...   \n",
            "413  0.265167    0.0    0.0           A.5. 3236    8.0500   NaN         2   \n",
            "414  1.204060    0.0    0.0            PC 17758  108.9000  C105         0   \n",
            "415  0.265235    0.0    0.0  SOTON/O.Q. 3101262    7.2500   NaN         2   \n",
            "416  0.265167    0.0    0.0              359309    8.0500   NaN         2   \n",
            "417  0.280502    1.0    1.0                2668   22.3583   NaN         2   \n",
            "\n",
            "     Survived  \n",
            "0           0  \n",
            "1           1  \n",
            "2           1  \n",
            "3           0  \n",
            "4           1  \n",
            "..        ...  \n",
            "413         0  \n",
            "414         1  \n",
            "415         0  \n",
            "416         0  \n",
            "417         0  \n",
            "\n",
            "[418 rows x 12 columns]\n"
          ]
        }
      ]
    }
  ]
}